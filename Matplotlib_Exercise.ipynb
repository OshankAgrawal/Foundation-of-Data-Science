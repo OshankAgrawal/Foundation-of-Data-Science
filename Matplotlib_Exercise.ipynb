{
  "nbformat": 4,
  "nbformat_minor": 0,
  "metadata": {
    "colab": {
      "provenance": [],
      "mount_file_id": "1sTg0VrO9kdkyzMsEfIldBYh12BMaNU6n",
      "authorship_tag": "ABX9TyPQC7Tgy83jtWpoyEKSj8Vk",
      "include_colab_link": true
    },
    "kernelspec": {
      "name": "python3",
      "display_name": "Python 3"
    },
    "language_info": {
      "name": "python"
    }
  },
  "cells": [
    {
      "cell_type": "markdown",
      "metadata": {
        "id": "view-in-github",
        "colab_type": "text"
      },
      "source": [
        "<a href=\"https://colab.research.google.com/github/OshankAgrawal/Foundation-of-Data-Science/blob/main/Matplotlib_Exercise.ipynb\" target=\"_parent\"><img src=\"https://colab.research.google.com/assets/colab-badge.svg\" alt=\"Open In Colab\"/></a>"
      ]
    },
    {
      "cell_type": "code",
      "source": [
        "import matplotlib\n",
        "print(matplotlib.__version__)"
      ],
      "metadata": {
        "id": "lyWKb40RdFSb",
        "colab": {
          "base_uri": "https://localhost:8080/"
        },
        "outputId": "61fcde6c-3028-4f13-a273-b0f5b5c9c59e"
      },
      "execution_count": null,
      "outputs": [
        {
          "output_type": "stream",
          "name": "stdout",
          "text": [
            "3.7.1\n"
          ]
        }
      ]
    },
    {
      "cell_type": "markdown",
      "source": [
        "Information regarding file handling you can refer the following link:\n",
        "\n",
        "https://www.w3schools.com/python/python_file_handling.asp"
      ],
      "metadata": {
        "id": "TeVFUrk2M1C2"
      }
    },
    {
      "cell_type": "code",
      "source": [
        "# Creating File\n",
        "# f = open('myfile.txt','x')\n",
        "\n",
        "# Open file in write mode\n",
        "f = open('myfile.txt','w')\n",
        "\n",
        "# Overwrite the content inside the file because the file is open in the write mode\n",
        "f.write('Hello everyone, I am Oshank Agrawal.')\n",
        "\n",
        "# Close the file\n",
        "f.close()\n",
        "\n",
        "# Open the file in read mode\n",
        "f = open('myfile.txt','r')\n",
        "\n",
        "# Read the content of file\n",
        "pd = f.read()\n",
        "\n",
        "# Print the content of the file\n",
        "print(pd)\n",
        "\n",
        "# Close the file\n",
        "f.close()\n",
        "\n",
        "print()\n",
        "\n",
        "# Again open the same file in write mode\n",
        "f = open('myfile','w')\n",
        "\n",
        "# Overwrite the content inside the file because the file is open in the write mode\n",
        "f.write('I currently study in Samrat Ashok Technological Institute Vidisha M.P.')\n",
        "\n",
        "# Close the file\n",
        "f.close()\n",
        "\n",
        "# Again open the same file in read mode\n",
        "f = open('myfile','r')\n",
        "\n",
        "# Read the new content of the file\n",
        "file = f.read()\n",
        "\n",
        "# Print the new content of the file\n",
        "print(file)\n",
        "\n",
        "# Close the file\n",
        "f.close()\n",
        "\n",
        "print()\n",
        "\n",
        "# Again open the file file in append mode\n",
        "f = open('myfile','a')\n",
        "\n",
        "# Append the content of the file\n",
        "f.write('\\nI belong from Mathura.')\n",
        "\n",
        "# close the file\n",
        "f.close()\n",
        "\n",
        "# Again open the file in read mode\n",
        "f = open('myfile','r')\n",
        "\n",
        "# Read the new content of the file\n",
        "data = f.read()\n",
        "\n",
        "# Print the new content of the file\n",
        "print(data)\n",
        "\n",
        "# Finally close the file\n",
        "f.close()"
      ],
      "metadata": {
        "colab": {
          "base_uri": "https://localhost:8080/"
        },
        "id": "lgvJZ7prNgYK",
        "outputId": "530e9770-84d1-4b76-a20e-f0614aa25a4b"
      },
      "execution_count": null,
      "outputs": [
        {
          "output_type": "stream",
          "name": "stdout",
          "text": [
            "Hello everyone, I am Oshank Agrawal.\n",
            "\n",
            "I currently study in Samrat Ashok Technological Institute Vidisha M.P.\n",
            "\n",
            "I currently study in Samrat Ashok Technological Institute Vidisha M.P.\n",
            "I belong from Mathura.\n"
          ]
        }
      ]
    },
    {
      "cell_type": "code",
      "source": [
        "# Creating File\n",
        "# f = open('mydata.txt','x')\n",
        "\n",
        "# Open file in write mode\n",
        "f = open('mydata.txt','w')\n",
        "\n",
        "# Overwrite the content inside the file because the file is open in the write mode\n",
        "f.write('xvalues  yvalues')\n",
        "f.write('\\n')\n",
        "f.write('1  2')\n",
        "f.write('\\n')\n",
        "f.write('2  4')\n",
        "f.write('\\n')\n",
        "f.write('3  1')\n",
        "\n",
        "# Close the file\n",
        "f.close()\n",
        "\n",
        "# Open the file in read mode\n",
        "f = open('mydata.txt','r')\n",
        "\n",
        "# Read the file line by line\n",
        "pd = f.readlines()\n",
        "\n",
        "# Print the content of the file\n",
        "print(pd)\n",
        "\n",
        "print()\n",
        "\n",
        "# Print lines of the file within the range\n",
        "print(pd[1:3])\n",
        "\n",
        "# Close the file\n",
        "f.close()"
      ],
      "metadata": {
        "colab": {
          "base_uri": "https://localhost:8080/"
        },
        "id": "BorROMvBP2Nl",
        "outputId": "d7c47f0a-9ffc-498c-d639-238aafee5321"
      },
      "execution_count": null,
      "outputs": [
        {
          "output_type": "stream",
          "name": "stdout",
          "text": [
            "['xvalues  yvalues\\n', '1  2\\n', '2  4\\n', '3  1']\n",
            "\n",
            "['1  2\\n', '2  4\\n']\n"
          ]
        }
      ]
    },
    {
      "cell_type": "markdown",
      "source": [
        "#Exercise"
      ],
      "metadata": {
        "id": "hnYh5C5-cseX"
      }
    },
    {
      "cell_type": "markdown",
      "source": [
        "**Question 01: Write a Python program to draw a line using given axis values taken from a text file, with suitable label in the x axis, y axis and a title.**\n",
        "\n",
        "Test Data: test.txt\n",
        "\n",
        "1 2\n",
        "\n",
        "2 4\n",
        "\n",
        "3 1"
      ],
      "metadata": {
        "id": "Qs1CyqazcxMs"
      }
    },
    {
      "cell_type": "code",
      "source": [
        "import numpy as np\n",
        "import matplotlib.pyplot as plt\n",
        "\n",
        "file = open('/content/drive/MyDrive/Data/Matplotlib Exercise Q1.txt','r')\n",
        "file.readline()\n",
        "\n",
        "test1  = []\n",
        "test2 = []\n",
        "\n",
        "for row in file:\n",
        "  row = row.split(\"\\t\")\n",
        "  test1.append(int(row[0]))\n",
        "  test2.append(int(row[1].strip(\"\\n\")))\n",
        "x = np.array(test1)\n",
        "y = np.array(test2)\n",
        "\n",
        "\n",
        "plt.plot(x,y)\n",
        "\n",
        "print(test1)\n",
        "print(test2)\n",
        "file.close()"
      ],
      "metadata": {
        "colab": {
          "base_uri": "https://localhost:8080/",
          "height": 465
        },
        "id": "XSyZLEfadrOw",
        "outputId": "dbe04676-2bef-4cf3-aa25-bf7190be9b30"
      },
      "execution_count": null,
      "outputs": [
        {
          "output_type": "stream",
          "name": "stdout",
          "text": [
            "[1, 2, 3]\n",
            "[2, 4, 1]\n"
          ]
        },
        {
          "output_type": "display_data",
          "data": {
            "text/plain": [
              "<Figure size 640x480 with 1 Axes>"
            ],
            "image/png": "[encoded data removed]"
          },
          "metadata": {}
        }
      ]
    },
    {
      "cell_type": "markdown",
      "source": [
        "**Question 02:-** Write a Python program to draw line charts of the financial data of Alphabet Inc. between October 3, 2016 to October 7, 2016.\n",
        "\n",
        "Sample Financial data (Matplotlib Exercise Q2.csv):"
      ],
      "metadata": {
        "id": "zYabEXbaedKv"
      }
    },
    {
      "cell_type": "code",
      "source": [
        "import numpy as np\n",
        "import pandas as pd\n",
        "import matplotlib.pyplot as plt\n",
        "\n",
        "data = pd.read_csv(\"/content/drive/MyDrive/Data/Matplotlib Exercise Q2.csv\")\n",
        "\n",
        "line1=data['Open']\n",
        "line2=data['High']\n",
        "line3=data['Low']\n",
        "line4=data['Close']\n",
        "# print(line1)\n",
        "# print(line2)\n",
        "# print(line3)\n",
        "# print(line4)\n",
        "\n",
        "y=data['Date']\n",
        "\n",
        "plt.plot(line1,y)\n",
        "plt.plot(line2,y)\n",
        "plt.plot(line3,y)\n",
        "plt.plot(line4,y)\n",
        "\n",
        "plt.show()"
      ],
      "metadata": {
        "id": "Z-jDZVvKdr_F",
        "colab": {
          "base_uri": "https://localhost:8080/",
          "height": 430
        },
        "outputId": "86bf8d7d-4d72-4d5f-a050-6883ef420492"
      },
      "execution_count": null,
      "outputs": [
        {
          "output_type": "display_data",
          "data": {
            "text/plain": [
              "<Figure size 640x480 with 1 Axes>"
            ],
            "image/png": "[encoded data removed]"
          },
          "metadata": {}
        }
      ]
    },
    {
      "cell_type": "code",
      "source": [
        "from google.colab import drive\n",
        "drive.mount('/content/drive')"
      ],
      "metadata": {
        "colab": {
          "base_uri": "https://localhost:8080/"
        },
        "id": "z8Yy--tNk5eg",
        "outputId": "a9e202f3-4f4b-4547-b9e3-de114f83ad80"
      },
      "execution_count": null,
      "outputs": [
        {
          "output_type": "stream",
          "name": "stdout",
          "text": [
            "Drive already mounted at /content/drive; to attempt to forcibly remount, call drive.mount(\"/content/drive\", force_remount=True).\n"
          ]
        }
      ]
    },
    {
      "cell_type": "markdown",
      "source": [
        "**Question 03:-** Write a Python program to plot two or more lines with different styles."
      ],
      "metadata": {
        "id": "j-HCMuCprYih"
      }
    },
    {
      "cell_type": "code",
      "source": [
        "import numpy as np\n",
        "import matplotlib.pyplot as plt\n",
        "\n",
        "x=np.array([10,20,30])\n",
        "y=np.array([40,10,30])\n",
        "y1=np.array([20,40,10])\n",
        "\n",
        "ax.plot(x,y,linestyle='dotted',color='purple')\n",
        "ax.plot(x,y1,linestyle='-',color='red')\n",
        "plt.xlabel('x-axis')\n",
        "plt.ylabel('y-axis')\n",
        "plt.title('Plot with two or more lines with different styles')\n",
        "ax.legend([line1, line2], ['label1', 'label2'])\n",
        "plt.show()"
      ],
      "metadata": {
        "colab": {
          "base_uri": "https://localhost:8080/",
          "height": 216
        },
        "id": "7ZHvduejoexQ",
        "outputId": "5fd2b2a0-25c4-4549-fca5-0ec7f5c5ece7"
      },
      "execution_count": null,
      "outputs": [
        {
          "output_type": "error",
          "ename": "NameError",
          "evalue": "name 'ax' is not defined",
          "traceback": [
            "\u001b[0;31m---------------------------------------------------------------------------\u001b[0m",
            "\u001b[0;31mNameError\u001b[0m                                 Traceback (most recent call last)",
            "\u001b[0;32m<ipython-input-17-3cf68f288770>\u001b[0m in \u001b[0;36m<cell line: 8>\u001b[0;34m()\u001b[0m\n\u001b[1;32m      6\u001b[0m \u001b[0my1\u001b[0m\u001b[0;34m=\u001b[0m\u001b[0mnp\u001b[0m\u001b[0;34m.\u001b[0m\u001b[0marray\u001b[0m\u001b[0;34m(\u001b[0m\u001b[0;34m[\u001b[0m\u001b[0;36m20\u001b[0m\u001b[0;34m,\u001b[0m\u001b[0;36m40\u001b[0m\u001b[0;34m,\u001b[0m\u001b[0;36m10\u001b[0m\u001b[0;34m]\u001b[0m\u001b[0;34m)\u001b[0m\u001b[0;34m\u001b[0m\u001b[0;34m\u001b[0m\u001b[0m\n\u001b[1;32m      7\u001b[0m \u001b[0;34m\u001b[0m\u001b[0m\n\u001b[0;32m----> 8\u001b[0;31m \u001b[0max\u001b[0m\u001b[0;34m.\u001b[0m\u001b[0mplot\u001b[0m\u001b[0;34m(\u001b[0m\u001b[0mx\u001b[0m\u001b[0;34m,\u001b[0m\u001b[0my\u001b[0m\u001b[0;34m,\u001b[0m\u001b[0mlinestyle\u001b[0m\u001b[0;34m=\u001b[0m\u001b[0;34m'dotted'\u001b[0m\u001b[0;34m,\u001b[0m\u001b[0mcolor\u001b[0m\u001b[0;34m=\u001b[0m\u001b[0;34m'purple'\u001b[0m\u001b[0;34m)\u001b[0m\u001b[0;34m\u001b[0m\u001b[0;34m\u001b[0m\u001b[0m\n\u001b[0m\u001b[1;32m      9\u001b[0m \u001b[0max\u001b[0m\u001b[0;34m.\u001b[0m\u001b[0mplot\u001b[0m\u001b[0;34m(\u001b[0m\u001b[0mx\u001b[0m\u001b[0;34m,\u001b[0m\u001b[0my1\u001b[0m\u001b[0;34m,\u001b[0m\u001b[0mlinestyle\u001b[0m\u001b[0;34m=\u001b[0m\u001b[0;34m'-'\u001b[0m\u001b[0;34m,\u001b[0m\u001b[0mcolor\u001b[0m\u001b[0;34m=\u001b[0m\u001b[0;34m'red'\u001b[0m\u001b[0;34m)\u001b[0m\u001b[0;34m\u001b[0m\u001b[0;34m\u001b[0m\u001b[0m\n\u001b[1;32m     10\u001b[0m \u001b[0mplt\u001b[0m\u001b[0;34m.\u001b[0m\u001b[0mxlabel\u001b[0m\u001b[0;34m(\u001b[0m\u001b[0;34m'x-axis'\u001b[0m\u001b[0;34m)\u001b[0m\u001b[0;34m\u001b[0m\u001b[0;34m\u001b[0m\u001b[0m\n",
            "\u001b[0;31mNameError\u001b[0m: name 'ax' is not defined"
          ]
        }
      ]
    }
  ]
}